{
 "cells": [
  {
   "cell_type": "code",
   "execution_count": null,
   "metadata": {},
   "outputs": [],
   "source": [
    "%pwd\n",
    "%cd /home/youtsumi/FullRaft/CompareRuns"
   ]
  },
  {
   "cell_type": "code",
   "execution_count": null,
   "metadata": {},
   "outputs": [],
   "source": [
    "%matplotlib inline\n",
    "from CompareRuns import run\n",
    "\n",
    "for arun, description in [\n",
    "    ( \"12885\", { \"origrun\": \"12851\", \"tag\": \"4ds9.5\" } ),\n",
    "    ( \"12887\", { \"origrun\": \"12853\", \"tag\": \"5sl-5sh5.5\" } ),\n",
    "    ( \"12888\", { \"origrun\": \"12854\", \"tag\": \"6.1sl-5sh5.8\" } ),\n",
    "    ( \"12890\", { \"origrun\": \"12855\", \"tag\": \"7og0.5\" } ),\n",
    "    ( \"12896\", { \"origrun\": \"12857\", \"tag\": \"csGate1.5\" } ),\n",
    "    ( \"12894\", { \"origrun\": \"12875\", \"tag\": \"1default\" } )\n",
    "    ]:\n",
    "    print (description)\n",
    "    run('12881', arun, **description)"
   ]
  },
  {
   "cell_type": "code",
   "execution_count": null,
   "metadata": {},
   "outputs": [],
   "source": []
  }
 ],
 "metadata": {
  "kernelspec": {
   "display_name": "LSST",
   "language": "python",
   "name": "lsst"
  },
  "language_info": {
   "codemirror_mode": {
    "name": "ipython",
    "version": 3
   },
   "file_extension": ".py",
   "mimetype": "text/x-python",
   "name": "python",
   "nbconvert_exporter": "python",
   "pygments_lexer": "ipython3",
   "version": "3.8.6"
  }
 },
 "nbformat": 4,
 "nbformat_minor": 4
}
